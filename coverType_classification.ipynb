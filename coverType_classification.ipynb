{
  "nbformat": 4,
  "nbformat_minor": 0,
  "metadata": {
    "colab": {
      "provenance": []
    },
    "kernelspec": {
      "name": "python3",
      "display_name": "Python 3"
    },
    "language_info": {
      "name": "python"
    }
  },
  "cells": [
    {
      "cell_type": "code",
      "execution_count": 21,
      "metadata": {
        "id": "evvv1URNpfmD"
      },
      "outputs": [],
      "source": [
        "import pandas as pd\n",
        "from sklearn.model_selection import train_test_split\n",
        "from sklearn.preprocessing import StandardScaler\n",
        "\n",
        "import tensorflow as tf\n",
        "from tensorflow import keras\n",
        "from tensorflow.keras import layers\n",
        "\n",
        "from tensorflow.keras.callbacks import EarlyStopping\n",
        "from sklearn.metrics import classification_report"
      ]
    },
    {
      "cell_type": "code",
      "source": [
        "# Load Data\n",
        "df = pd.read_csv('cover_data.csv')"
      ],
      "metadata": {
        "id": "s8R_VJEtpj3g"
      },
      "execution_count": 3,
      "outputs": []
    },
    {
      "cell_type": "code",
      "source": [
        "# Seperate features and target\n",
        "X = df.drop('class', axis=1)\n",
        "y = df['class'] - 1 # convert to 0-6"
      ],
      "metadata": {
        "id": "ZQH_1kAapnVQ"
      },
      "execution_count": 4,
      "outputs": []
    },
    {
      "cell_type": "markdown",
      "source": [],
      "metadata": {
        "id": "JFnreiJe0GF_"
      }
    },
    {
      "cell_type": "code",
      "source": [
        "# Identify columns\n",
        "num_cols = [\n",
        "    'Elevation', 'Aspect', 'Slope', 'Horizontal_Distance_To_Hydrology',\n",
        "    'Vertical_Distance_To_Hydrology', 'Horizontal_Distance_To_Roadways',\n",
        "    'Hillshade_9am', 'Hillshade_Noon', 'Hillshade_3pm',\n",
        "    'Horizontal_Distance_To_Fire_Points'\n",
        "]\n",
        "\n",
        "# The rest are binary\n",
        "bin_cols = [col for col in X.columns if col not in num_cols]"
      ],
      "metadata": {
        "id": "toUtUV1cdiD9"
      },
      "execution_count": 5,
      "outputs": []
    },
    {
      "cell_type": "code",
      "source": [
        "# Scale only numerical columns\n",
        "scaler = StandardScaler()\n",
        "X[num_cols] = scaler.fit_transform(X[num_cols])"
      ],
      "metadata": {
        "id": "5h3myCXOd0bz"
      },
      "execution_count": 7,
      "outputs": []
    },
    {
      "cell_type": "code",
      "source": [
        "# Split the data\n",
        "X_train, X_test, y_train, y_test = train_test_split(X,y,test_size=0.2,random_state=42,stratify=y)"
      ],
      "metadata": {
        "id": "Kp67dZVseYWx"
      },
      "execution_count": 8,
      "outputs": []
    },
    {
      "cell_type": "code",
      "source": [
        "# Model creation\n",
        "model = keras.Sequential([\n",
        "    layers.Input(shape=(54,)),\n",
        "    layers.Dense(64, activation='relu'),\n",
        "    layers.Dense(32, activation='relu'),\n",
        "    layers.Dense(7, activation='softmax') # 7 output classes\n",
        "])"
      ],
      "metadata": {
        "id": "SEL__P_Ve2l9"
      },
      "execution_count": 11,
      "outputs": []
    },
    {
      "cell_type": "code",
      "source": [
        "# Model compile\n",
        "model.compile(\n",
        "    optimizer='adam',\n",
        "    loss='sparse_categorical_crossentropy',\n",
        "    metrics=['accuracy']\n",
        ")"
      ],
      "metadata": {
        "id": "MmvwG-mtf7Xm"
      },
      "execution_count": 12,
      "outputs": []
    },
    {
      "cell_type": "code",
      "source": [
        "# Model training\n",
        "early_stop = EarlyStopping(monitor='val_accuracy', patience=5, restore_best_weights=True)\n",
        "\n",
        "history = model.fit(\n",
        "    X_train, y_train,\n",
        "    validation_data = (X_test, y_test),\n",
        "    epochs=50,\n",
        "    batch_size=256,\n",
        "    callbacks=[early_stop],\n",
        "    verbose=2\n",
        ")"
      ],
      "metadata": {
        "colab": {
          "base_uri": "https://localhost:8080/"
        },
        "id": "uobOgZU8gnaZ",
        "outputId": "7695d39f-359e-4473-c54f-4506d5fdf354"
      },
      "execution_count": 17,
      "outputs": [
        {
          "output_type": "stream",
          "name": "stdout",
          "text": [
            "Epoch 1/50\n",
            "1816/1816 - 7s - 4ms/step - accuracy: 0.7388 - loss: 0.6244 - val_accuracy: 0.7744 - val_loss: 0.5308\n",
            "Epoch 2/50\n",
            "1816/1816 - 11s - 6ms/step - accuracy: 0.7847 - loss: 0.5010 - val_accuracy: 0.7937 - val_loss: 0.4820\n",
            "Epoch 3/50\n",
            "1816/1816 - 10s - 5ms/step - accuracy: 0.8015 - loss: 0.4634 - val_accuracy: 0.8078 - val_loss: 0.4530\n",
            "Epoch 4/50\n",
            "1816/1816 - 10s - 5ms/step - accuracy: 0.8123 - loss: 0.4404 - val_accuracy: 0.8156 - val_loss: 0.4367\n",
            "Epoch 5/50\n",
            "1816/1816 - 6s - 3ms/step - accuracy: 0.8209 - loss: 0.4245 - val_accuracy: 0.8242 - val_loss: 0.4205\n",
            "Epoch 6/50\n",
            "1816/1816 - 5s - 3ms/step - accuracy: 0.8273 - loss: 0.4116 - val_accuracy: 0.8290 - val_loss: 0.4089\n",
            "Epoch 7/50\n",
            "1816/1816 - 6s - 3ms/step - accuracy: 0.8328 - loss: 0.4020 - val_accuracy: 0.8339 - val_loss: 0.4012\n",
            "Epoch 8/50\n",
            "1816/1816 - 9s - 5ms/step - accuracy: 0.8366 - loss: 0.3938 - val_accuracy: 0.8334 - val_loss: 0.4002\n",
            "Epoch 9/50\n",
            "1816/1816 - 6s - 3ms/step - accuracy: 0.8394 - loss: 0.3872 - val_accuracy: 0.8404 - val_loss: 0.3879\n",
            "Epoch 10/50\n",
            "1816/1816 - 5s - 3ms/step - accuracy: 0.8423 - loss: 0.3810 - val_accuracy: 0.8417 - val_loss: 0.3833\n",
            "Epoch 11/50\n",
            "1816/1816 - 6s - 3ms/step - accuracy: 0.8442 - loss: 0.3763 - val_accuracy: 0.8439 - val_loss: 0.3775\n",
            "Epoch 12/50\n",
            "1816/1816 - 5s - 3ms/step - accuracy: 0.8460 - loss: 0.3718 - val_accuracy: 0.8454 - val_loss: 0.3722\n",
            "Epoch 13/50\n",
            "1816/1816 - 6s - 3ms/step - accuracy: 0.8488 - loss: 0.3673 - val_accuracy: 0.8431 - val_loss: 0.3757\n",
            "Epoch 14/50\n",
            "1816/1816 - 5s - 3ms/step - accuracy: 0.8501 - loss: 0.3638 - val_accuracy: 0.8483 - val_loss: 0.3711\n",
            "Epoch 15/50\n",
            "1816/1816 - 5s - 3ms/step - accuracy: 0.8513 - loss: 0.3600 - val_accuracy: 0.8476 - val_loss: 0.3676\n",
            "Epoch 16/50\n",
            "1816/1816 - 6s - 3ms/step - accuracy: 0.8531 - loss: 0.3568 - val_accuracy: 0.8493 - val_loss: 0.3648\n",
            "Epoch 17/50\n",
            "1816/1816 - 10s - 5ms/step - accuracy: 0.8545 - loss: 0.3537 - val_accuracy: 0.8506 - val_loss: 0.3596\n",
            "Epoch 18/50\n",
            "1816/1816 - 5s - 3ms/step - accuracy: 0.8553 - loss: 0.3515 - val_accuracy: 0.8483 - val_loss: 0.3711\n",
            "Epoch 19/50\n",
            "1816/1816 - 5s - 3ms/step - accuracy: 0.8566 - loss: 0.3484 - val_accuracy: 0.8558 - val_loss: 0.3526\n",
            "Epoch 20/50\n",
            "1816/1816 - 6s - 3ms/step - accuracy: 0.8574 - loss: 0.3462 - val_accuracy: 0.8561 - val_loss: 0.3509\n",
            "Epoch 21/50\n",
            "1816/1816 - 10s - 5ms/step - accuracy: 0.8579 - loss: 0.3441 - val_accuracy: 0.8569 - val_loss: 0.3490\n",
            "Epoch 22/50\n",
            "1816/1816 - 10s - 5ms/step - accuracy: 0.8595 - loss: 0.3420 - val_accuracy: 0.8588 - val_loss: 0.3453\n",
            "Epoch 23/50\n",
            "1816/1816 - 6s - 3ms/step - accuracy: 0.8600 - loss: 0.3400 - val_accuracy: 0.8584 - val_loss: 0.3453\n",
            "Epoch 24/50\n",
            "1816/1816 - 5s - 3ms/step - accuracy: 0.8609 - loss: 0.3383 - val_accuracy: 0.8596 - val_loss: 0.3438\n",
            "Epoch 25/50\n",
            "1816/1816 - 6s - 3ms/step - accuracy: 0.8622 - loss: 0.3360 - val_accuracy: 0.8614 - val_loss: 0.3395\n",
            "Epoch 26/50\n",
            "1816/1816 - 5s - 3ms/step - accuracy: 0.8630 - loss: 0.3346 - val_accuracy: 0.8568 - val_loss: 0.3426\n",
            "Epoch 27/50\n",
            "1816/1816 - 4s - 2ms/step - accuracy: 0.8630 - loss: 0.3332 - val_accuracy: 0.8593 - val_loss: 0.3423\n",
            "Epoch 28/50\n",
            "1816/1816 - 5s - 3ms/step - accuracy: 0.8643 - loss: 0.3313 - val_accuracy: 0.8600 - val_loss: 0.3378\n",
            "Epoch 29/50\n",
            "1816/1816 - 5s - 3ms/step - accuracy: 0.8645 - loss: 0.3300 - val_accuracy: 0.8608 - val_loss: 0.3384\n",
            "Epoch 30/50\n",
            "1816/1816 - 5s - 3ms/step - accuracy: 0.8653 - loss: 0.3289 - val_accuracy: 0.8622 - val_loss: 0.3366\n",
            "Epoch 31/50\n",
            "1816/1816 - 5s - 3ms/step - accuracy: 0.8661 - loss: 0.3272 - val_accuracy: 0.8630 - val_loss: 0.3366\n",
            "Epoch 32/50\n",
            "1816/1816 - 5s - 3ms/step - accuracy: 0.8665 - loss: 0.3269 - val_accuracy: 0.8627 - val_loss: 0.3323\n",
            "Epoch 33/50\n",
            "1816/1816 - 6s - 3ms/step - accuracy: 0.8675 - loss: 0.3247 - val_accuracy: 0.8653 - val_loss: 0.3323\n",
            "Epoch 34/50\n",
            "1816/1816 - 5s - 3ms/step - accuracy: 0.8674 - loss: 0.3236 - val_accuracy: 0.8636 - val_loss: 0.3326\n",
            "Epoch 35/50\n",
            "1816/1816 - 6s - 3ms/step - accuracy: 0.8680 - loss: 0.3228 - val_accuracy: 0.8678 - val_loss: 0.3257\n",
            "Epoch 36/50\n",
            "1816/1816 - 5s - 3ms/step - accuracy: 0.8691 - loss: 0.3210 - val_accuracy: 0.8624 - val_loss: 0.3346\n",
            "Epoch 37/50\n",
            "1816/1816 - 5s - 3ms/step - accuracy: 0.8689 - loss: 0.3204 - val_accuracy: 0.8662 - val_loss: 0.3282\n",
            "Epoch 38/50\n",
            "1816/1816 - 6s - 3ms/step - accuracy: 0.8693 - loss: 0.3200 - val_accuracy: 0.8680 - val_loss: 0.3237\n",
            "Epoch 39/50\n",
            "1816/1816 - 5s - 3ms/step - accuracy: 0.8701 - loss: 0.3179 - val_accuracy: 0.8682 - val_loss: 0.3229\n",
            "Epoch 40/50\n",
            "1816/1816 - 6s - 3ms/step - accuracy: 0.8708 - loss: 0.3170 - val_accuracy: 0.8662 - val_loss: 0.3286\n",
            "Epoch 41/50\n",
            "1816/1816 - 9s - 5ms/step - accuracy: 0.8711 - loss: 0.3167 - val_accuracy: 0.8681 - val_loss: 0.3232\n",
            "Epoch 42/50\n",
            "1816/1816 - 6s - 3ms/step - accuracy: 0.8717 - loss: 0.3153 - val_accuracy: 0.8707 - val_loss: 0.3189\n",
            "Epoch 43/50\n",
            "1816/1816 - 5s - 3ms/step - accuracy: 0.8719 - loss: 0.3144 - val_accuracy: 0.8694 - val_loss: 0.3230\n",
            "Epoch 44/50\n",
            "1816/1816 - 6s - 3ms/step - accuracy: 0.8720 - loss: 0.3138 - val_accuracy: 0.8695 - val_loss: 0.3201\n",
            "Epoch 45/50\n",
            "1816/1816 - 5s - 3ms/step - accuracy: 0.8725 - loss: 0.3130 - val_accuracy: 0.8632 - val_loss: 0.3294\n",
            "Epoch 46/50\n",
            "1816/1816 - 5s - 3ms/step - accuracy: 0.8727 - loss: 0.3127 - val_accuracy: 0.8688 - val_loss: 0.3210\n",
            "Epoch 47/50\n",
            "1816/1816 - 6s - 3ms/step - accuracy: 0.8734 - loss: 0.3113 - val_accuracy: 0.8711 - val_loss: 0.3175\n",
            "Epoch 48/50\n",
            "1816/1816 - 5s - 3ms/step - accuracy: 0.8737 - loss: 0.3099 - val_accuracy: 0.8647 - val_loss: 0.3259\n",
            "Epoch 49/50\n",
            "1816/1816 - 6s - 3ms/step - accuracy: 0.8740 - loss: 0.3095 - val_accuracy: 0.8674 - val_loss: 0.3264\n",
            "Epoch 50/50\n",
            "1816/1816 - 5s - 3ms/step - accuracy: 0.8748 - loss: 0.3085 - val_accuracy: 0.8726 - val_loss: 0.3153\n"
          ]
        }
      ]
    },
    {
      "cell_type": "code",
      "source": [
        "# Model evaluation\n",
        "test_loss, test_acc = model.evaluate(X_test, y_test, verbose=2)\n",
        "print(f\"Test Accuracy: {test_acc:.4f}\")"
      ],
      "metadata": {
        "colab": {
          "base_uri": "https://localhost:8080/"
        },
        "id": "lW_yf1RklycK",
        "outputId": "2f01d7be-058c-41f4-a07c-3039c51e4b33"
      },
      "execution_count": 18,
      "outputs": [
        {
          "output_type": "stream",
          "name": "stdout",
          "text": [
            "3632/3632 - 6s - 2ms/step - accuracy: 0.8726 - loss: 0.3153\n",
            "Test Accuracy: 0.8726\n"
          ]
        }
      ]
    },
    {
      "cell_type": "code",
      "source": [
        "# More detailed analysis\n",
        "\n",
        "y_pred = model.predict(X_test)\n",
        "y_pred_classes = y_pred.argmax(axis=1)\n",
        "\n",
        "print(classification_report(y_test, y_pred_classes, target_names=[\n",
        "    \"Spruce/Fir\", \"Lodgepole Pine\", \"Ponderosa Pine\", \"Cottonwood/Willow\", \"Aspen\", \"Douglas-fir\", \"Krummholz\"\n",
        "]))"
      ],
      "metadata": {
        "colab": {
          "base_uri": "https://localhost:8080/"
        },
        "id": "k0gVIkinpRwL",
        "outputId": "c0e556d2-a06f-4f7e-9bc0-583f1a89655c"
      },
      "execution_count": 19,
      "outputs": [
        {
          "output_type": "stream",
          "name": "stdout",
          "text": [
            "\u001b[1m3632/3632\u001b[0m \u001b[32m━━━━━━━━━━━━━━━━━━━━\u001b[0m\u001b[37m\u001b[0m \u001b[1m4s\u001b[0m 1ms/step\n",
            "                   precision    recall  f1-score   support\n",
            "\n",
            "       Spruce/Fir       0.87      0.87      0.87     42368\n",
            "   Lodgepole Pine       0.89      0.90      0.89     56661\n",
            "   Ponderosa Pine       0.83      0.90      0.87      7151\n",
            "Cottonwood/Willow       0.83      0.74      0.78       549\n",
            "            Aspen       0.75      0.55      0.63      1899\n",
            "      Douglas-fir       0.77      0.70      0.73      3473\n",
            "        Krummholz       0.87      0.90      0.88      4102\n",
            "\n",
            "         accuracy                           0.87    116203\n",
            "        macro avg       0.83      0.79      0.81    116203\n",
            "     weighted avg       0.87      0.87      0.87    116203\n",
            "\n"
          ]
        }
      ]
    },
    {
      "cell_type": "code",
      "source": [
        "# Model save\n",
        "model.save('forest_cover_model.keras')"
      ],
      "metadata": {
        "id": "PL-I7wYlwkUh"
      },
      "execution_count": 23,
      "outputs": []
    },
    {
      "cell_type": "code",
      "source": [],
      "metadata": {
        "id": "dMoM7PufxxMl"
      },
      "execution_count": null,
      "outputs": []
    },
    {
      "cell_type": "markdown",
      "source": [],
      "metadata": {
        "id": "ELloARkxx8v-"
      }
    }
  ]
}